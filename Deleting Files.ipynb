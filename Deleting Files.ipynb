{
 "cells": [
  {
   "cell_type": "markdown",
   "metadata": {},
   "source": [
    "### os.unlink() function\n",
    "\n",
    "Deletes a single file\n",
    "- pass it a file name with path\n",
    "\n",
    "### os.rmdir()\n",
    "\n",
    "Deletes an empty folder\n",
    "- pass it a folder name with path\n",
    "- if folder has files in it, will give you an error\n",
    "\n",
    "### shutil.rmtree()\n",
    "\n",
    "Deletes folder and its entire contents\n",
    "- need to import the shutil module\n",
    "- pass it folder name and path\n",
    "\n",
    "### Note\n",
    "\n",
    "If use relative path or only use file/folder name it might delete another file that has same name of a different location. So if there might be more than one with same name, write absolute path in argument.\n",
    "\n",
    "### Dry Run\n",
    "\n",
    "These functions delete for ever, not put in a trash bin that can be recovered.\n"
   ]
  },
  {
   "cell_type": "code",
   "execution_count": 2,
   "metadata": {},
   "outputs": [],
   "source": [
    "import os\n",
    "for filename in os.listdir():        #listdir() returns list of strings of all files and folders in current working directory\n",
    "    if filename.endswith('.rtx'):    # if you mistake .rtx for .txt and dont realize\n",
    "        # os.unlink(filename)\n",
    "        print(filename)"
   ]
  },
  {
   "cell_type": "markdown",
   "metadata": {},
   "source": [
    "instead of actually running this with the last line, comment it out and instead run a print function that prints out filename. Then you can check if function would actually do what you want it to.\n",
    "- then you can fix code (catch your mistakes) and then run it properly"
   ]
  },
  {
   "cell_type": "markdown",
   "metadata": {},
   "source": [
    "### send2trash Module\n",
    "\n",
    "Even with dry runs, still dangerous, so can use this module to send to trash (meaning can be recovered).\n",
    "need to install using pip --> I already have it!\n"
   ]
  },
  {
   "cell_type": "code",
   "execution_count": null,
   "metadata": {},
   "outputs": [],
   "source": []
  }
 ],
 "metadata": {
  "kernelspec": {
   "display_name": "Python 3",
   "language": "python",
   "name": "python3"
  },
  "language_info": {
   "codemirror_mode": {
    "name": "ipython",
    "version": 3
   },
   "file_extension": ".py",
   "mimetype": "text/x-python",
   "name": "python",
   "nbconvert_exporter": "python",
   "pygments_lexer": "ipython3",
   "version": "3.7.4"
  }
 },
 "nbformat": 4,
 "nbformat_minor": 4
}
