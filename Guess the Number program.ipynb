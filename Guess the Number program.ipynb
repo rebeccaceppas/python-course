{
 "cells": [
  {
   "cell_type": "markdown",
   "metadata": {},
   "source": [
    "### Guess the number game\n",
    "\n",
    "Game that generates a random integer and asks user to guess."
   ]
  },
  {
   "cell_type": "code",
   "execution_count": 27,
   "metadata": {},
   "outputs": [],
   "source": [
    "import random"
   ]
  },
  {
   "cell_type": "code",
   "execution_count": 28,
   "metadata": {},
   "outputs": [
    {
     "name": "stdout",
     "output_type": "stream",
     "text": [
      "Hello what is your name?\n",
      "Rebecca\n"
     ]
    }
   ],
   "source": [
    "number = random.randint(1, 20)\n",
    "\n",
    "print('Hello what is your name?')\n",
    "name = input()"
   ]
  },
  {
   "cell_type": "code",
   "execution_count": 29,
   "metadata": {},
   "outputs": [
    {
     "name": "stdout",
     "output_type": "stream",
     "text": [
      "Hello Rebecca, I am thinking of a number between 1 and 20.\n"
     ]
    }
   ],
   "source": [
    "print('Hello ' + name + ', I am thinking of a number between 1 and 20.')"
   ]
  },
  {
   "cell_type": "code",
   "execution_count": 30,
   "metadata": {},
   "outputs": [
    {
     "name": "stdout",
     "output_type": "stream",
     "text": [
      "Take a guess!\n",
      "3\n",
      "Your guess is too low\n",
      "Take a guess!\n",
      "7\n",
      "Your guess is too low\n",
      "Take a guess!\n",
      "9\n",
      "Your guess is too low\n",
      "Take a guess!\n",
      "16\n",
      "Your guess is too high\n",
      "Take a guess!\n",
      "14\n",
      "Your guess is too high\n",
      "Take a guess!\n",
      "12\n",
      "Your guess is too high\n"
     ]
    }
   ],
   "source": [
    "for guessesTaken in range(1,7):                      #from 1 to 6\n",
    "    print('Take a guess!')\n",
    "    guess = int(input())\n",
    "    \n",
    "    if int(guess) < number:\n",
    "        print('Your guess is too low')\n",
    "    elif guess > number:\n",
    "        print('Your guess is too high')\n",
    "    else:\n",
    "        break"
   ]
  },
  {
   "cell_type": "code",
   "execution_count": 33,
   "metadata": {},
   "outputs": [
    {
     "name": "stdout",
     "output_type": "stream",
     "text": [
      "Nope, the number I was trinking of was 10\n",
      "You took 6 guesses.\n"
     ]
    }
   ],
   "source": [
    "if guess == number:\n",
    "    print('Good job ' + name + '! You guesses my number in ' + str(guessesTaken) + ' guesses')\n",
    "else:\n",
    "    print('Nope, the number I was trinking of was ' + str(number) )\n",
    "\n",
    "print('You took ' + str(guessesTaken) + ' guesses.')"
   ]
  },
  {
   "cell_type": "code",
   "execution_count": null,
   "metadata": {},
   "outputs": [],
   "source": []
  }
 ],
 "metadata": {
  "kernelspec": {
   "display_name": "Python 3",
   "language": "python",
   "name": "python3"
  },
  "language_info": {
   "codemirror_mode": {
    "name": "ipython",
    "version": 3
   },
   "file_extension": ".py",
   "mimetype": "text/x-python",
   "name": "python",
   "nbconvert_exporter": "python",
   "pygments_lexer": "ipython3",
   "version": "3.7.4"
  }
 },
 "nbformat": 4,
 "nbformat_minor": 4
}
