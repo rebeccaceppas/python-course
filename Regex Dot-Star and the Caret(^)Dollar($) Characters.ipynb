{
 "cells": [
  {
   "cell_type": "markdown",
   "metadata": {},
   "source": [
    "### Caret characters ^\n",
    "\n",
    "* makes negative chacater classes\n",
    "* use at start of regex to indicate that match has to happen at beginning of text\n",
    "\n",
    "### Dollar sign\n",
    "\n",
    "* put at end to show match has to happen at end of text\n",
    "\n",
    "If none of these happen, then findall method returns an empty string and search method returns None value.\n",
    "\n",
    "### Using both at once\n",
    "\n",
    "* add ^ at beginning and dollar sign at end to mean pattern must match entire string"
   ]
  },
  {
   "cell_type": "code",
   "execution_count": 1,
   "metadata": {},
   "outputs": [],
   "source": [
    "import re"
   ]
  },
  {
   "cell_type": "code",
   "execution_count": 6,
   "metadata": {},
   "outputs": [
    {
     "data": {
      "text/plain": [
       "'Hello'"
      ]
     },
     "execution_count": 6,
     "metadata": {},
     "output_type": "execute_result"
    }
   ],
   "source": [
    "beginsHelloRegex = re.compile(r'^Hello')\n",
    "mo = beginsHelloRegex.search('Hello people')\n",
    "mo.group()"
   ]
  },
  {
   "cell_type": "code",
   "execution_count": 8,
   "metadata": {},
   "outputs": [
    {
     "data": {
      "text/plain": [
       "True"
      ]
     },
     "execution_count": 8,
     "metadata": {},
     "output_type": "execute_result"
    }
   ],
   "source": [
    "mo = beginsHelloRegex.search('people, hello everyone')\n",
    "mo == None"
   ]
  },
  {
   "cell_type": "code",
   "execution_count": 10,
   "metadata": {},
   "outputs": [
    {
     "data": {
      "text/plain": [
       "'World'"
      ]
     },
     "execution_count": 10,
     "metadata": {},
     "output_type": "execute_result"
    }
   ],
   "source": [
    "endWorldRegex = re.compile(r'World$')\n",
    "mo = endWorldRegex.search('Hello World')\n",
    "mo.group()"
   ]
  },
  {
   "cell_type": "code",
   "execution_count": 11,
   "metadata": {},
   "outputs": [
    {
     "data": {
      "text/plain": [
       "True"
      ]
     },
     "execution_count": 11,
     "metadata": {},
     "output_type": "execute_result"
    }
   ],
   "source": [
    "mo = endWorldRegex.search('The World is beautiful')\n",
    "mo == None"
   ]
  },
  {
   "cell_type": "code",
   "execution_count": 12,
   "metadata": {},
   "outputs": [
    {
     "data": {
      "text/plain": [
       "'2518539182730218309271'"
      ]
     },
     "execution_count": 12,
     "metadata": {},
     "output_type": "execute_result"
    }
   ],
   "source": [
    "allDigitsRegex = re.compile(r'^\\d+$')\n",
    "mo = allDigitsRegex.search('2518539182730218309271')\n",
    "mo.group()"
   ]
  },
  {
   "cell_type": "code",
   "execution_count": 13,
   "metadata": {},
   "outputs": [
    {
     "data": {
      "text/plain": [
       "True"
      ]
     },
     "execution_count": 13,
     "metadata": {},
     "output_type": "execute_result"
    }
   ],
   "source": [
    "#begins and ends with patters or 1+ digits, but doesn't match entire string\n",
    "mo = allDigitsRegex.search('2518539182730x218309271')\n",
    "mo == None"
   ]
  },
  {
   "cell_type": "markdown",
   "metadata": {},
   "source": [
    "### . Character\n",
    "\n",
    "Anything except newline\n",
    "- so for example: .at means find a match of something that is any character (except the new line) followed by 'at'\n",
    "- . only looks for a single character, wont match the whole word, just the character before 'at'\n",
    "Example 2 says\n",
    "- characters 'at' preceded by 1 or 2 other characters that are not the new line.\n",
    "    - also includes spaces\n",
    "\n"
   ]
  },
  {
   "cell_type": "code",
   "execution_count": 14,
   "metadata": {},
   "outputs": [
    {
     "data": {
      "text/plain": [
       "['cat', 'hat', 'sat', 'lat', 'mat']"
      ]
     },
     "execution_count": 14,
     "metadata": {},
     "output_type": "execute_result"
    }
   ],
   "source": [
    "atRegex = re.compile(r'.at')\n",
    "atRegex.findall('The cat in the hat sat on the flat mat')"
   ]
  },
  {
   "cell_type": "code",
   "execution_count": 16,
   "metadata": {},
   "outputs": [
    {
     "data": {
      "text/plain": [
       "[' cat', ' hat', ' sat', 'flat', ' mat']"
      ]
     },
     "execution_count": 16,
     "metadata": {},
     "output_type": "execute_result"
    }
   ],
   "source": [
    "atRegex = re.compile(r'.{1,2}at')\n",
    "atRegex.findall('The cat in the hat sat on the flat mat')"
   ]
  },
  {
   "cell_type": "markdown",
   "metadata": {},
   "source": [
    "### Dot-Star (match anything)\n",
    "\n",
    ". means anything but new line and * means 0 or more.\n",
    "So combined they mean zero or more of any character\n",
    "- meaning any pattern whatsoever\n",
    "\n",
    "In the example, since we are using groups in the regex expression, only the groups are printed out. Since we only have one match, we get one tuple as a result.\n",
    "\n",
    "* uses greedy mode, will always try to match as much text as possible. To make it nongreedy, use\n",
    "    * .*?"
   ]
  },
  {
   "cell_type": "code",
   "execution_count": 17,
   "metadata": {},
   "outputs": [
    {
     "data": {
      "text/plain": [
       "[('Rebecca', 'Ceppas')]"
      ]
     },
     "execution_count": 17,
     "metadata": {},
     "output_type": "execute_result"
    }
   ],
   "source": [
    "#want to pull out first name and last name values\n",
    "'First Name: Rebecca Last Name: Ceppas'\n",
    "nameRegex = re.compile(r'First Name: (.*) Last Name: (.*)')\n",
    "nameRegex.findall('First Name: Rebecca Last Name: Ceppas')"
   ]
  },
  {
   "cell_type": "code",
   "execution_count": 18,
   "metadata": {},
   "outputs": [
    {
     "data": {
      "text/plain": [
       "['to serve humans']"
      ]
     },
     "execution_count": 18,
     "metadata": {},
     "output_type": "execute_result"
    }
   ],
   "source": [
    "serve = '<to serve humans> for dinner.>'\n",
    "nongreedyRegex = re.compile(r'<(.*?)>')\n",
    "nongreedyRegex.findall(serve)"
   ]
  },
  {
   "cell_type": "code",
   "execution_count": 19,
   "metadata": {},
   "outputs": [
    {
     "data": {
      "text/plain": [
       "['to serve humans> for dinner.']"
      ]
     },
     "execution_count": 19,
     "metadata": {},
     "output_type": "execute_result"
    }
   ],
   "source": [
    "#compared to the greedy version\n",
    "greedyRegex = re.compile(r'<(.*)>')\n",
    "greedyRegex.findall(serve)"
   ]
  },
  {
   "cell_type": "code",
   "execution_count": 21,
   "metadata": {},
   "outputs": [
    {
     "name": "stdout",
     "output_type": "stream",
     "text": [
      "serve the public trust.\n",
      "Protect the innocent.\n",
      "Upload the law\n"
     ]
    }
   ],
   "source": [
    "prime = 'serve the public trust.\\nProtect the innocent.\\nUpload the law'\n",
    "print(prime)"
   ]
  },
  {
   "cell_type": "markdown",
   "metadata": {},
   "source": [
    "### re.DOTALL\n",
    "\n",
    "Make . mean every character (including new line)\n",
    "\n",
    "Using re.compile(r'.*', re.DOTALL)"
   ]
  },
  {
   "cell_type": "code",
   "execution_count": 24,
   "metadata": {},
   "outputs": [
    {
     "data": {
      "text/plain": [
       "'serve the public trust.'"
      ]
     },
     "execution_count": 24,
     "metadata": {},
     "output_type": "execute_result"
    }
   ],
   "source": [
    "#stops when reaches new line character because of .\n",
    "dotStar = re.compile(r'.*')\n",
    "mo = dotStar.search(prime)\n",
    "mo.group()"
   ]
  },
  {
   "cell_type": "code",
   "execution_count": 25,
   "metadata": {},
   "outputs": [
    {
     "data": {
      "text/plain": [
       "'serve the public trust.\\nProtect the innocent.\\nUpload the law'"
      ]
     },
     "execution_count": 25,
     "metadata": {},
     "output_type": "execute_result"
    }
   ],
   "source": [
    "#now . includes even new lines\n",
    "dotStar = re.compile(r'.*', re.DOTALL)\n",
    "mo = dotStar.search(prime)\n",
    "mo.group()"
   ]
  },
  {
   "cell_type": "markdown",
   "metadata": {},
   "source": [
    "### re.IGNORECASE\n",
    "\n",
    "Case insensitive regex match\n",
    "- can also pass re.I instead of re.IGNORECASE"
   ]
  },
  {
   "cell_type": "code",
   "execution_count": 26,
   "metadata": {},
   "outputs": [
    {
     "data": {
      "text/plain": [
       "['o', 'o', 'u', 'i', 'e', 'o', 'o', 'o', 'u']"
      ]
     },
     "execution_count": 26,
     "metadata": {},
     "output_type": "execute_result"
    }
   ],
   "source": [
    "#only retuns lower case\n",
    "vowelRegex = re.compile(r'[aeiou]')\n",
    "vowelRegex.findall('Al, why do you like robots so much?')"
   ]
  },
  {
   "cell_type": "code",
   "execution_count": 27,
   "metadata": {},
   "outputs": [
    {
     "data": {
      "text/plain": [
       "['A', 'o', 'o', 'u', 'i', 'e', 'o', 'o', 'o', 'u']"
      ]
     },
     "execution_count": 27,
     "metadata": {},
     "output_type": "execute_result"
    }
   ],
   "source": [
    "#returns lower and upper case\n",
    "vowelRegex = re.compile(r'[aeiou]', re.I)\n",
    "vowelRegex.findall('Al, why do you ike robots so much?')"
   ]
  },
  {
   "cell_type": "code",
   "execution_count": null,
   "metadata": {},
   "outputs": [],
   "source": []
  }
 ],
 "metadata": {
  "kernelspec": {
   "display_name": "Python 3",
   "language": "python",
   "name": "python3"
  },
  "language_info": {
   "codemirror_mode": {
    "name": "ipython",
    "version": 3
   },
   "file_extension": ".py",
   "mimetype": "text/x-python",
   "name": "python",
   "nbconvert_exporter": "python",
   "pygments_lexer": "ipython3",
   "version": "3.7.4"
  }
 },
 "nbformat": 4,
 "nbformat_minor": 4
}
