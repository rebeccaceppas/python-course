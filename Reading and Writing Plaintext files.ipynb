{
 "cells": [
  {
   "cell_type": "markdown",
   "metadata": {},
   "source": [
    "### Plaintext and Binary Files\n",
    "\n",
    "plain text --> contain basic text information --> .txt extension\n",
    "- can be opened with programs as notepad, etc\n",
    "- only have plain text, no fonts, formating, etc.\n",
    "\n",
    "Binary files --> every other type of file\n",
    "- images, spreadshits, images, pdfs\n",
    "- they are pretty impossible to understand\n",
    "    - can use modules to read them\n",
    "    \n",
    "    \n",
    "### The open() function\n",
    "\n",
    "Opens file in plain text read mode\n",
    "- python lets you only read it, not modify it in any way\n",
    "- this is standard form\n",
    "\n",
    "### Method in this function\n",
    "\n",
    "- read() method returns string of entire file's contents\n",
    "- close() method closes file\n",
    "    - will need to open again if want to read again\n",
    "- readlines() method returns all lines as strings inside a list"
   ]
  },
  {
   "cell_type": "code",
   "execution_count": 3,
   "metadata": {},
   "outputs": [
    {
     "ename": "FileNotFoundError",
     "evalue": "[Errno 2] No such file or directory: '/Users/rebeccaceppas/filename'",
     "output_type": "error",
     "traceback": [
      "\u001b[0;31m---------------------------------------------------------------------------\u001b[0m",
      "\u001b[0;31mFileNotFoundError\u001b[0m                         Traceback (most recent call last)",
      "\u001b[0;32m<ipython-input-3-3f5ef186562a>\u001b[0m in \u001b[0;36m<module>\u001b[0;34m\u001b[0m\n\u001b[0;32m----> 1\u001b[0;31m \u001b[0mfile\u001b[0m \u001b[0;34m=\u001b[0m \u001b[0mopen\u001b[0m\u001b[0;34m(\u001b[0m\u001b[0;34m'/Users/rebeccaceppas/filename'\u001b[0m\u001b[0;34m)\u001b[0m\u001b[0;34m\u001b[0m\u001b[0;34m\u001b[0m\u001b[0m\n\u001b[0m\u001b[1;32m      2\u001b[0m \u001b[0mfile\u001b[0m\u001b[0;34m.\u001b[0m\u001b[0mread\u001b[0m\u001b[0;34m(\u001b[0m\u001b[0;34m)\u001b[0m\u001b[0;34m\u001b[0m\u001b[0;34m\u001b[0m\u001b[0m\n\u001b[1;32m      3\u001b[0m \u001b[0mfile\u001b[0m\u001b[0;34m.\u001b[0m\u001b[0mclose\u001b[0m\u001b[0;34m(\u001b[0m\u001b[0;34m)\u001b[0m\u001b[0;34m\u001b[0m\u001b[0;34m\u001b[0m\u001b[0m\n",
      "\u001b[0;31mFileNotFoundError\u001b[0m: [Errno 2] No such file or directory: '/Users/rebeccaceppas/filename'"
     ]
    }
   ],
   "source": [
    "file = open('/Users/rebeccaceppas/filename')\n",
    "file.read()\n",
    "file.close()"
   ]
  },
  {
   "cell_type": "markdown",
   "metadata": {},
   "source": [
    "### Write or Append mode\n",
    "\n",
    "Write mode\n",
    "- Can write content to files. Overwrites file and creates a new black text file that you can modify.\n",
    "- pass the string 'w' as a secong argument on the open() function\n",
    "\n",
    "Append mode\n",
    "- appends text you write to end of file\n",
    "- pass 'a' as second argument of open function\n",
    "\n",
    "If file doesn't already exist, python will create a new blank file in both modes.\n",
    "\n",
    "### Methods\n",
    "\n",
    "- write() method --> insert string in argument that you want to write to it.\n",
    "    - return the integer of how many characters you wrote to it\n",
    "    - doesn't add a new line character immediately, so you need to add it yourself.\n",
    "    \n",
    "\n",
    "### Shelve Module\n",
    "\n",
    "store variables that have lists, dictionaries, functions in binary shelve files \n",
    "- need to import the shelve module\n",
    "- shelve.open() method\n",
    "    - will return shleve file object\n",
    "    - can make changes to it as if it were a dictionary"
   ]
  },
  {
   "cell_type": "code",
   "execution_count": 2,
   "metadata": {},
   "outputs": [],
   "source": [
    "import shelve\n",
    "shelveFile = shelve.open('mydata')\n",
    "shelveFile['cats'] = ['a','as','arw','cleo']\n",
    "shelveFile.close()"
   ]
  },
  {
   "cell_type": "code",
   "execution_count": 4,
   "metadata": {},
   "outputs": [
    {
     "data": {
      "text/plain": [
       "['a', 'as', 'arw', 'cleo']"
      ]
     },
     "execution_count": 4,
     "metadata": {},
     "output_type": "execute_result"
    }
   ],
   "source": [
    "shelveFile = shelve.open('mydata')\n",
    "shelveFile['cats']"
   ]
  },
  {
   "cell_type": "markdown",
   "metadata": {},
   "source": [
    "### keys() and values() shelf methods\n",
    "\n"
   ]
  }
 ],
 "metadata": {
  "kernelspec": {
   "display_name": "Python 3",
   "language": "python",
   "name": "python3"
  },
  "language_info": {
   "codemirror_mode": {
    "name": "ipython",
    "version": 3
   },
   "file_extension": ".py",
   "mimetype": "text/x-python",
   "name": "python",
   "nbconvert_exporter": "python",
   "pygments_lexer": "ipython3",
   "version": "3.7.4"
  }
 },
 "nbformat": 4,
 "nbformat_minor": 4
}
