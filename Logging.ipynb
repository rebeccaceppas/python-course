{
 "cells": [
  {
   "cell_type": "markdown",
   "metadata": {},
   "source": [
    "### logging.basicConfig() function\n",
    "\n",
    "import logging module and add this line of setup code to program"
   ]
  },
  {
   "cell_type": "code",
   "execution_count": 2,
   "metadata": {},
   "outputs": [],
   "source": [
    "import logging\n",
    "logging.basicConfig(level=logging.DEBUG, format='%(asctime)s - %(levelname)s - %(message)s')"
   ]
  },
  {
   "cell_type": "code",
   "execution_count": 3,
   "metadata": {},
   "outputs": [],
   "source": [
    "#example buggy factorial problem\n",
    "\n",
    "def factorial(n):\n",
    "    total = 1\n",
    "    for i in range(0,n+1):\n",
    "        total *= i\n",
    "    return total"
   ]
  },
  {
   "cell_type": "code",
   "execution_count": 4,
   "metadata": {},
   "outputs": [
    {
     "data": {
      "text/plain": [
       "0"
      ]
     },
     "execution_count": 4,
     "metadata": {},
     "output_type": "execute_result"
    }
   ],
   "source": [
    "#this is clearly not right\n",
    "factorial(5)"
   ]
  },
  {
   "cell_type": "markdown",
   "metadata": {},
   "source": [
    "### logging.debug() function\n",
    "\n",
    "if did this with print function instead, when deleting all debuggers, might delete a print function you actually want to keep.\n",
    "\n",
    "### logging.disable(logging.CRITICAL)\n",
    "\n",
    "simple way of turning off all logging messages"
   ]
  },
  {
   "cell_type": "code",
   "execution_count": 5,
   "metadata": {},
   "outputs": [
    {
     "name": "stderr",
     "output_type": "stream",
     "text": [
      "2020-03-31 14:33:08,311 - DEBUG - start of program\n",
      "2020-03-31 14:33:08,320 - DEBUG - end of program\n"
     ]
    }
   ],
   "source": [
    "logging.debug('start of program')\n",
    "\n",
    "def factorial(n):\n",
    "    logging.debug('start of factorial (%s)' % (n))\n",
    "    total = 1\n",
    "    for i in range(0,n+1):\n",
    "        total *= i\n",
    "        logging.debug('i is %s, total is %s' % (i, total))\n",
    "        \n",
    "    logging.debug('return value is %s' % (total))\n",
    "    return total\n",
    "\n",
    "logging.debug('end of program')\n"
   ]
  },
  {
   "cell_type": "code",
   "execution_count": 6,
   "metadata": {},
   "outputs": [
    {
     "name": "stderr",
     "output_type": "stream",
     "text": [
      "2020-03-31 14:33:30,959 - DEBUG - start of factorial (5)\n",
      "2020-03-31 14:33:30,961 - DEBUG - i is 0, total is 0\n",
      "2020-03-31 14:33:30,962 - DEBUG - i is 1, total is 0\n",
      "2020-03-31 14:33:30,963 - DEBUG - i is 2, total is 0\n",
      "2020-03-31 14:33:30,964 - DEBUG - i is 3, total is 0\n",
      "2020-03-31 14:33:30,965 - DEBUG - i is 4, total is 0\n",
      "2020-03-31 14:33:30,966 - DEBUG - i is 5, total is 0\n",
      "2020-03-31 14:33:30,967 - DEBUG - return value is 0\n"
     ]
    },
    {
     "data": {
      "text/plain": [
       "0"
      ]
     },
     "execution_count": 6,
     "metadata": {},
     "output_type": "execute_result"
    }
   ],
   "source": [
    "#shows us the problem is that total is always zero\n",
    "#because we multiply by 0 on very first iteration\n",
    "factorial(5)"
   ]
  },
  {
   "cell_type": "code",
   "execution_count": 7,
   "metadata": {},
   "outputs": [
    {
     "name": "stderr",
     "output_type": "stream",
     "text": [
      "2020-03-31 14:35:14,126 - DEBUG - start of program\n",
      "2020-03-31 14:35:14,128 - DEBUG - end of program\n"
     ]
    }
   ],
   "source": [
    "#corrected to start range at 1 not at 0\n",
    "logging.debug('start of program')\n",
    "\n",
    "def factorial(n):\n",
    "    logging.debug('start of factorial (%s)' % (n))\n",
    "    total = 1\n",
    "    for i in range(1,n+1):\n",
    "        total *= i\n",
    "        logging.debug('i is %s, total is %s' % (i, total))\n",
    "        \n",
    "    logging.debug('return value is %s' % (total))\n",
    "    return total\n",
    "\n",
    "logging.debug('end of program')"
   ]
  },
  {
   "cell_type": "code",
   "execution_count": 8,
   "metadata": {},
   "outputs": [
    {
     "name": "stderr",
     "output_type": "stream",
     "text": [
      "2020-03-31 14:35:22,114 - DEBUG - start of factorial (5)\n",
      "2020-03-31 14:35:22,117 - DEBUG - i is 1, total is 1\n",
      "2020-03-31 14:35:22,118 - DEBUG - i is 2, total is 2\n",
      "2020-03-31 14:35:22,119 - DEBUG - i is 3, total is 6\n",
      "2020-03-31 14:35:22,120 - DEBUG - i is 4, total is 24\n",
      "2020-03-31 14:35:22,122 - DEBUG - i is 5, total is 120\n",
      "2020-03-31 14:35:22,123 - DEBUG - return value is 120\n"
     ]
    },
    {
     "data": {
      "text/plain": [
       "120"
      ]
     },
     "execution_count": 8,
     "metadata": {},
     "output_type": "execute_result"
    }
   ],
   "source": [
    "factorial(5)"
   ]
  },
  {
   "cell_type": "code",
   "execution_count": 10,
   "metadata": {},
   "outputs": [],
   "source": [
    "#disabling messages, if want to show them again just comment this out\n",
    "logging.disable(logging.CRITICAL)"
   ]
  },
  {
   "cell_type": "code",
   "execution_count": 11,
   "metadata": {},
   "outputs": [],
   "source": [
    "#corrected to start range at 1 not at 0\n",
    "logging.debug('start of program')\n",
    "\n",
    "def factorial(n):\n",
    "    logging.debug('start of factorial (%s)' % (n))\n",
    "    total = 1\n",
    "    for i in range(1,n+1):\n",
    "        total *= i\n",
    "        logging.debug('i is %s, total is %s' % (i, total))\n",
    "        \n",
    "    logging.debug('return value is %s' % (total))\n",
    "    return total\n",
    "\n",
    "logging.debug('end of program')"
   ]
  },
  {
   "cell_type": "markdown",
   "metadata": {},
   "source": [
    "### Log levels\n",
    "\n",
    "1. debug (lowest)\n",
    "2. info\n",
    "3. warning\n",
    "4. error\n",
    "5. critical (highest)\n",
    "\n",
    "just as you have logging.debug(), you have one for each of these levels. Each of them prints log message at different levels.\n",
    "- the logging.disable(logging.CRITICAL)\n",
    "    - tells program to disable all logging messages at critical level and lower (ALL of them)\n",
    "    \n",
    "Call using different levels based on priorities of your program\n",
    "\n",
    "\n",
    "### Logging to a file\n",
    "\n",
    "change basic setup by adding "
   ]
  },
  {
   "cell_type": "code",
   "execution_count": null,
   "metadata": {},
   "outputs": [],
   "source": [
    "logging.basicConfig(level=logging.DEBUG, format='%(asctime)s - %(levelname)s - %(message)s')"
   ]
  }
 ],
 "metadata": {
  "kernelspec": {
   "display_name": "Python 3",
   "language": "python",
   "name": "python3"
  },
  "language_info": {
   "codemirror_mode": {
    "name": "ipython",
    "version": 3
   },
   "file_extension": ".py",
   "mimetype": "text/x-python",
   "name": "python",
   "nbconvert_exporter": "python",
   "pygments_lexer": "ipython3",
   "version": "3.7.4"
  }
 },
 "nbformat": 4,
 "nbformat_minor": 4
}
