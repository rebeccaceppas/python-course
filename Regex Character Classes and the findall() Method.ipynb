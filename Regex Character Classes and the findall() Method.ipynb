{
 "cells": [
  {
   "cell_type": "markdown",
   "metadata": {},
   "source": [
    "### findall() Method\n",
    "\n",
    "Search method used before finds the first match. The findall method will give you all matches from text.\n",
    "- find all returns a list of strings\n",
    "- can't use the mo.group()"
   ]
  },
  {
   "cell_type": "code",
   "execution_count": 1,
   "metadata": {},
   "outputs": [],
   "source": [
    "import re"
   ]
  },
  {
   "cell_type": "code",
   "execution_count": 9,
   "metadata": {},
   "outputs": [
    {
     "data": {
      "text/plain": [
       "['467-333-3333', '111-333-5555']"
      ]
     },
     "execution_count": 9,
     "metadata": {},
     "output_type": "execute_result"
    }
   ],
   "source": [
    "#example: finding all numbers in a \n",
    "phoneRegex = re.compile(r'\\d\\d\\d-\\d\\d\\d-\\d\\d\\d\\d')\n",
    "numbers = phoneRegex.findall('my numbers are 467-333-3333 and 111-333-5555')\n",
    "numbers"
   ]
  },
  {
   "cell_type": "markdown",
   "metadata": {},
   "source": [
    "### Groups\n",
    "\n",
    "If have groups inside of regex object and use findall method, it returns list of tuples instead of regular strings. Each one of the tuples is one of the matches and each element of a single tuple is one of the groups."
   ]
  },
  {
   "cell_type": "code",
   "execution_count": 10,
   "metadata": {},
   "outputs": [
    {
     "data": {
      "text/plain": [
       "[('467', '333-3333'), ('111', '333-5555')]"
      ]
     },
     "execution_count": 10,
     "metadata": {},
     "output_type": "execute_result"
    }
   ],
   "source": [
    "phoneRegex = re.compile(r'(\\d\\d\\d)-(\\d\\d\\d-\\d\\d\\d\\d)')\n",
    "numbers = phoneRegex.findall('my numbers are 467-333-3333 and 111-333-5555')\n",
    "numbers"
   ]
  },
  {
   "cell_type": "markdown",
   "metadata": {},
   "source": [
    "### Character Classes\n",
    "\n",
    "* \\d --> numeric digit (0-9)\n",
    "* \\D --> any character that is NOT numeric digit (0-9)\n",
    "    * numbers\n",
    "* \\w --> any letter, numeric digit or _\n",
    "* \\W --> any character that is NOT letter, number or _\n",
    "    * words\n",
    "* \\s --> any space, tab, newline character\n",
    "* \\S --> any character that is NOT space, newline or tab\n",
    "    * spaces"
   ]
  },
  {
   "cell_type": "code",
   "execution_count": 12,
   "metadata": {},
   "outputs": [
    {
     "data": {
      "text/plain": [
       "['12 drummers',\n",
       " '11 pipers',\n",
       " '10 lords',\n",
       " '9 ladies',\n",
       " '8 maids',\n",
       " '7 swans',\n",
       " '6 geese',\n",
       " '5 golden',\n",
       " '4 calling',\n",
       " '3 french',\n",
       " '2 turtle',\n",
       " '1 partridge']"
      ]
     },
     "execution_count": 12,
     "metadata": {},
     "output_type": "execute_result"
    }
   ],
   "source": [
    "#getting every number followed by word in the song lyrics\n",
    "lyrics = '12 drummers drumming, 11 pipers piping, 10 lords a leaping, 9 ladies dancing, 8 maids a milking, 7 swans a swimming, 6 geese a laying, 5 golden rings, 4 calling birds, 3 french hens, 2 turtle doves, and 1 partridge in a pear tree'\n",
    "xmasRegex = re.compile(r'\\d+\\s\\w+')     #\\s stands for the space\n",
    "xmasRegex.findall(lyrics)"
   ]
  },
  {
   "cell_type": "markdown",
   "metadata": {},
   "source": [
    "### Making your own character classes\n",
    "\n",
    "The ones seen above are the standard, short cut ones.\n",
    "- create a new character class by writting between square brackets all characters that would be part of it"
   ]
  },
  {
   "cell_type": "code",
   "execution_count": 13,
   "metadata": {},
   "outputs": [
    {
     "data": {
      "text/plain": [
       "['o', 'o', 'o', 'e', 'a', 'a', 'O', 'O']"
      ]
     },
     "execution_count": 13,
     "metadata": {},
     "output_type": "execute_result"
    }
   ],
   "source": [
    "vowelRegex = re.compile(r'[aeiouAEIOU]')\n",
    "vowelRegex.findall('Robocop eats baby fOOd')"
   ]
  },
  {
   "cell_type": "code",
   "execution_count": 14,
   "metadata": {},
   "outputs": [
    {
     "data": {
      "text/plain": [
       "['ea', 'OO']"
      ]
     },
     "execution_count": 14,
     "metadata": {},
     "output_type": "execute_result"
    }
   ],
   "source": [
    "doubleVowelRegex = re.compile(r'[aeiouAEIOU]{2}')\n",
    "doubleVowelRegex.findall('Robocop eats baby fOOd')"
   ]
  },
  {
   "cell_type": "markdown",
   "metadata": {},
   "source": [
    "### Negative Character Classes\n",
    "\n",
    "Add a ^ inside the square brackets of new character class means that it matches everything that is NOT inside the brackets."
   ]
  },
  {
   "cell_type": "code",
   "execution_count": 15,
   "metadata": {},
   "outputs": [
    {
     "data": {
      "text/plain": [
       "['R', 'b', 'c', 'p', ' ', 't', 's', ' ', 'b', 'b', 'y', ' ', 'f', 'd']"
      ]
     },
     "execution_count": 15,
     "metadata": {},
     "output_type": "execute_result"
    }
   ],
   "source": [
    "#finding all consonants and punctuations, etc, or all not vowels\n",
    "notVowelRegex = re.compile(r'[^aeiouAEIOU]')\n",
    "notVowelRegex.findall('Robocop eats baby fOOd')"
   ]
  }
 ],
 "metadata": {
  "kernelspec": {
   "display_name": "Python 3",
   "language": "python",
   "name": "python3"
  },
  "language_info": {
   "codemirror_mode": {
    "name": "ipython",
    "version": 3
   },
   "file_extension": ".py",
   "mimetype": "text/x-python",
   "name": "python",
   "nbconvert_exporter": "python",
   "pygments_lexer": "ipython3",
   "version": "3.7.4"
  }
 },
 "nbformat": 4,
 "nbformat_minor": 4
}
