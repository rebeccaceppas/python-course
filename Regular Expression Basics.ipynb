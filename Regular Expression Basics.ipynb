{
 "cells": [
  {
   "cell_type": "markdown",
   "metadata": {},
   "source": [
    "### Regular Expressions\n",
    "\n",
    "Allow you to look for a certain pattern of text\n",
    "* ex of text patterns\n",
    "    * phone numbers --> 647-780-5020\n",
    "        * have area code - 3numbers - 4numbers\n",
    "        * 610,5628,298 would not be a phone number\n",
    "        \n",
    "        \n",
    "### Example of Non-Regular Expression\n",
    "\n",
    "very long code"
   ]
  },
  {
   "cell_type": "code",
   "execution_count": 2,
   "metadata": {},
   "outputs": [],
   "source": [
    "def isPhoneNumber(text):\n",
    "    if len(text) != 12:\n",
    "        return False      #because phone number has 12 characters\n",
    "    for i in range(0,3):\n",
    "        if not text[i].isdecimal():\n",
    "            return False              #there is no area code\n",
    "    if text[3] != '-':\n",
    "        return False              #there is no dash after number\n",
    "    for i in range(4,7):\n",
    "        if not text[i].isdecimal():\n",
    "            return False\n",
    "    if text[7] != '-':\n",
    "        return False\n",
    "    for i in range(8,12):\n",
    "        if not text[i].isdecimal():\n",
    "            return False\n",
    "    else:\n",
    "        return True           "
   ]
  },
  {
   "cell_type": "code",
   "execution_count": 4,
   "metadata": {},
   "outputs": [
    {
     "data": {
      "text/plain": [
       "True"
      ]
     },
     "execution_count": 4,
     "metadata": {},
     "output_type": "execute_result"
    }
   ],
   "source": [
    "isPhoneNumber('647-780-5020')"
   ]
  },
  {
   "cell_type": "code",
   "execution_count": 7,
   "metadata": {},
   "outputs": [
    {
     "data": {
      "text/plain": [
       "False"
      ]
     },
     "execution_count": 7,
     "metadata": {},
     "output_type": "execute_result"
    }
   ],
   "source": [
    "isPhoneNumber('647,926,1441')"
   ]
  },
  {
   "cell_type": "code",
   "execution_count": 8,
   "metadata": {},
   "outputs": [
    {
     "data": {
      "text/plain": [
       "False"
      ]
     },
     "execution_count": 8,
     "metadata": {},
     "output_type": "execute_result"
    }
   ],
   "source": [
    "isPhoneNumber('hello')"
   ]
  },
  {
   "cell_type": "code",
   "execution_count": 13,
   "metadata": {},
   "outputs": [
    {
     "name": "stdout",
     "output_type": "stream",
     "text": [
      "phone number found: 647-780-5020\n",
      "phone number found: 647-926-1441\n"
     ]
    }
   ],
   "source": [
    "#if have long string and want to find where in string there is a phone number\n",
    "\n",
    "message1 = 'call me 647-780-5020, or at 647-926-1441 for my office line'\n",
    "foundNumber = False\n",
    "for i in range(len(message1)):\n",
    "    chunk = message1[i:i+12]    #checking every 12 chcracter chunk\n",
    "    if isPhoneNumber(chunk) == True:\n",
    "        print('phone number found: ' + chunk)\n",
    "        foundNumber = True\n",
    "if foundNumber == False:\n",
    "    print('could not find any phone numbers.')"
   ]
  },
  {
   "cell_type": "code",
   "execution_count": 14,
   "metadata": {},
   "outputs": [
    {
     "name": "stdout",
     "output_type": "stream",
     "text": [
      "could not find any phone numbers.\n"
     ]
    }
   ],
   "source": [
    "message = 'call me 647,780,5020, or at 647,26,1441 for my office line'\n",
    "foundNumber = False\n",
    "for i in range(len(message)):\n",
    "    chunk = message[i:i+12]    #checking every 12 chcracter chunk\n",
    "    if isPhoneNumber(chunk) == True:\n",
    "        print('phone number found: ' + chunk)\n",
    "        foundNumber = True\n",
    "if foundNumber == False:\n",
    "    print('could not find any phone numbers.')"
   ]
  },
  {
   "cell_type": "markdown",
   "metadata": {},
   "source": [
    "### Same code using regular expressions\n",
    "\n",
    "1. import re module, which has all regular expressions in it\n",
    "2. define variable with re.compile(raw string) so can use slashes or other characters freely\n",
    "3. d = numeric digit\n",
    "4. then this is stored in variable as reg expression you are looking for.\n",
    "\n",
    "1. use search method with message in argument applied to the variable.\n",
    "2. store the return value in variable called mo (match object)\n",
    "3. match object has method called group, which shows you the actual text\n",
    "\n",
    "If there is no phone number, will return None value.\n"
   ]
  },
  {
   "cell_type": "code",
   "execution_count": 11,
   "metadata": {},
   "outputs": [],
   "source": [
    "import re       "
   ]
  },
  {
   "cell_type": "code",
   "execution_count": 15,
   "metadata": {},
   "outputs": [],
   "source": [
    "phoneReg = re.compile(r'\\d\\d\\d-\\d\\d\\d-\\d\\d\\d\\d')"
   ]
  },
  {
   "cell_type": "code",
   "execution_count": 17,
   "metadata": {},
   "outputs": [],
   "source": [
    "mo = phoneReg.search(message1)"
   ]
  },
  {
   "cell_type": "code",
   "execution_count": 18,
   "metadata": {},
   "outputs": [
    {
     "data": {
      "text/plain": [
       "'647-780-5020'"
      ]
     },
     "execution_count": 18,
     "metadata": {},
     "output_type": "execute_result"
    }
   ],
   "source": [
    "mo.group()"
   ]
  },
  {
   "cell_type": "code",
   "execution_count": 20,
   "metadata": {},
   "outputs": [
    {
     "name": "stdout",
     "output_type": "stream",
     "text": [
      "None\n"
     ]
    }
   ],
   "source": [
    "mo = phoneReg.search(message)\n",
    "print(mo)"
   ]
  },
  {
   "cell_type": "markdown",
   "metadata": {},
   "source": [
    "### findall() Method\n",
    "\n",
    "Use instead of search method, returns list of all strings found"
   ]
  },
  {
   "cell_type": "code",
   "execution_count": 21,
   "metadata": {},
   "outputs": [
    {
     "name": "stdout",
     "output_type": "stream",
     "text": [
      "['647-780-5020', '647-926-1441']\n"
     ]
    }
   ],
   "source": [
    "mo = phoneReg.findall(message1)\n",
    "print(mo)"
   ]
  }
 ],
 "metadata": {
  "kernelspec": {
   "display_name": "Python 3",
   "language": "python",
   "name": "python3"
  },
  "language_info": {
   "codemirror_mode": {
    "name": "ipython",
    "version": 3
   },
   "file_extension": ".py",
   "mimetype": "text/x-python",
   "name": "python",
   "nbconvert_exporter": "python",
   "pygments_lexer": "ipython3",
   "version": "3.7.4"
  }
 },
 "nbformat": 4,
 "nbformat_minor": 4
}
