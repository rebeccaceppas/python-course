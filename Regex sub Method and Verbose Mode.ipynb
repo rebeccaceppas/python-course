{
 "cells": [
  {
   "cell_type": "markdown",
   "metadata": {},
   "source": [
    "### The sub() Method\n",
    "\n",
    "it is a substitution = find and replace method.\n",
    "- format is\n",
    "\n",
    "regexobject.sub(new expression, entire text)"
   ]
  },
  {
   "cell_type": "code",
   "execution_count": 1,
   "metadata": {},
   "outputs": [],
   "source": [
    "import re"
   ]
  },
  {
   "cell_type": "code",
   "execution_count": 3,
   "metadata": {},
   "outputs": [
    {
     "data": {
      "text/plain": [
       "['Agent Alice', 'Agent Bob']"
      ]
     },
     "execution_count": 3,
     "metadata": {},
     "output_type": "execute_result"
    }
   ],
   "source": [
    "namesRegex = re.compile(r'Agent \\w+')\n",
    "namesRegex.findall('Agent Alice gave the secret documents to Agent Bob.')"
   ]
  },
  {
   "cell_type": "code",
   "execution_count": 6,
   "metadata": {},
   "outputs": [
    {
     "data": {
      "text/plain": [
       "'CLASSIFIED gave the secret documents to CLASSIFIED.'"
      ]
     },
     "execution_count": 6,
     "metadata": {},
     "output_type": "execute_result"
    }
   ],
   "source": [
    "#finds all matches and then substitutes classified into matches\n",
    "namesRegex.sub('CLASSIFIED', 'Agent Alice gave the secret documents to Agent Bob.')"
   ]
  },
  {
   "cell_type": "markdown",
   "metadata": {},
   "source": [
    "### Using \\1 \\2, etc in sub()\n",
    "\n",
    "String you want it substituted with is part of the original pattern.\n",
    "\n",
    "ex: say Agent A instead of Agent Alice.\n",
    "\n",
    "- if had multiple groups inside of regex, then would use \\1 for first, \\2 for second, etc"
   ]
  },
  {
   "cell_type": "code",
   "execution_count": 7,
   "metadata": {},
   "outputs": [
    {
     "data": {
      "text/plain": [
       "['A', 'B']"
      ]
     },
     "execution_count": 7,
     "metadata": {},
     "output_type": "execute_result"
    }
   ],
   "source": [
    "#separate in group of only 1st letter of name followed by 0+ letters\n",
    "namesRegex = re.compile(r'Agent (\\w)\\w*')\n",
    "namesRegex.findall('Agent Alice gave the secret documents to Agent Bob')\n",
    "#returns only the group"
   ]
  },
  {
   "cell_type": "code",
   "execution_count": 9,
   "metadata": {},
   "outputs": [
    {
     "data": {
      "text/plain": [
       "'Agent A**** gave the secret documents to Agent B****.'"
      ]
     },
     "execution_count": 9,
     "metadata": {},
     "output_type": "execute_result"
    }
   ],
   "source": [
    "namesRegex.sub(r'Agent \\1****', 'Agent Alice gave the secret documents to Agent Bob.')"
   ]
  },
  {
   "cell_type": "markdown",
   "metadata": {},
   "source": [
    "### Verbose Mode\n",
    "\n",
    "use re.VERBOSE\n",
    "\n",
    "* the string inside of regex (re.compile(expression)) can get awkward and difficult to read and understand.\n",
    "* can use VERBOSE to get a better thing\n",
    "* can make it a multiline code, easier to read, and even add comments in between"
   ]
  },
  {
   "cell_type": "code",
   "execution_count": 10,
   "metadata": {},
   "outputs": [],
   "source": [
    "phoneRegex = re.compile(r'''\n",
    "\\d\\d\\d         #area code\n",
    "-\n",
    "\\d\\d\\d         #first 3 nums\n",
    "-\n",
    "\\d\\d\\d\\d       #last 4 nums\n",
    "''', re.VERBOSE)"
   ]
  },
  {
   "cell_type": "code",
   "execution_count": null,
   "metadata": {},
   "outputs": [],
   "source": [
    "#or even more complicated\n",
    "phoneRegex = re.compile(r'''\n",
    "(\\d\\d\\d-)|         #area code without parenthesis or...\n",
    "(\\(\\d\\d\\d\\))       #area code with parenthesis and no dash\n",
    "\\d\\d\\d             #first 3 nums\n",
    "-\n",
    "\\d\\d\\d\\d           #last 4 nums\n",
    "\\sx\\d{2,4}         #extension, like x1234\n",
    "''', re.VERBOSE)"
   ]
  },
  {
   "cell_type": "markdown",
   "metadata": {},
   "source": [
    "### Using multiple options in compile argument\n",
    "\n",
    "re.IGNORECASE or re.I, re.DOTALL, re.VERBOSE\n",
    "\n",
    "* Can you use them all together? Yes, using the or operator bafter the comma.\n",
    "\n",
    "re.IGNORECASE | re.DOTALL | re.VERBOSE"
   ]
  },
  {
   "cell_type": "code",
   "execution_count": null,
   "metadata": {},
   "outputs": [],
   "source": []
  }
 ],
 "metadata": {
  "kernelspec": {
   "display_name": "Python 3",
   "language": "python",
   "name": "python3"
  },
  "language_info": {
   "codemirror_mode": {
    "name": "ipython",
    "version": 3
   },
   "file_extension": ".py",
   "mimetype": "text/x-python",
   "name": "python",
   "nbconvert_exporter": "python",
   "pygments_lexer": "ipython3",
   "version": "3.7.4"
  }
 },
 "nbformat": 4,
 "nbformat_minor": 4
}
