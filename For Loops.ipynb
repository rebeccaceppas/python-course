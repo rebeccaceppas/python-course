{
 "cells": [
  {
   "cell_type": "markdown",
   "metadata": {},
   "source": [
    "### For Loops"
   ]
  },
  {
   "cell_type": "markdown",
   "metadata": {},
   "source": [
    "Iterates a code a given number of times, instead of looping as long as a condition is true (like while loops). range for i starts in 0 not in 1. So range(5) goes like 0,1,2,3,4.\n",
    "\n",
    "Can use break and continue statements in for loops and they work exactly the same as"
   ]
  },
  {
   "cell_type": "code",
   "execution_count": 1,
   "metadata": {},
   "outputs": [
    {
     "name": "stdout",
     "output_type": "stream",
     "text": [
      "My name is\n",
      "Rebecca Five Times 0\n",
      "Rebecca Five Times 1\n",
      "Rebecca Five Times 2\n",
      "Rebecca Five Times 3\n",
      "Rebecca Five Times 4\n"
     ]
    }
   ],
   "source": [
    "print('My name is')\n",
    "for i in range(5):\n",
    "    print('Rebecca Five Times ' + str(i))"
   ]
  },
  {
   "cell_type": "code",
   "execution_count": 5,
   "metadata": {},
   "outputs": [
    {
     "name": "stdout",
     "output_type": "stream",
     "text": [
      "5050\n"
     ]
    }
   ],
   "source": [
    "#sum of first 100 numbers\n",
    "sum = 0\n",
    "for i in range(101):\n",
    "    sum = sum + i\n",
    "print(sum)"
   ]
  },
  {
   "cell_type": "markdown",
   "metadata": {},
   "source": [
    "### Range function\n",
    "\n",
    "Range function returns range object when you run it. This is an object from the range data type that has multiple arguments separated by comma.\n",
    "\n",
    "Instead of having one argument, can decide when to start and end.\n",
    "- range(5) == range(0,5)\n",
    "- range(12,16) == 12, 13, 14, 15\n",
    "\n",
    "Can also have a third argument that tells the code what to increment. This is the step argument: bu how much is it increased after each iteration?\n",
    "- range(0,10,2) == 0, 2, 4, 6, 8\n",
    "- range(10,-1,-2) == 10, 8, 6, 4, 2, 0"
   ]
  },
  {
   "cell_type": "code",
   "execution_count": 9,
   "metadata": {},
   "outputs": [
    {
     "data": {
      "text/plain": [
       "range(0, 10)"
      ]
     },
     "execution_count": 9,
     "metadata": {},
     "output_type": "execute_result"
    }
   ],
   "source": [
    "range(10)"
   ]
  },
  {
   "cell_type": "code",
   "execution_count": 11,
   "metadata": {},
   "outputs": [
    {
     "name": "stdout",
     "output_type": "stream",
     "text": [
      "my name is\n",
      "Rebecca 12\n",
      "Rebecca 13\n",
      "Rebecca 14\n",
      "Rebecca 15\n"
     ]
    }
   ],
   "source": [
    "print('my name is')\n",
    "for i in range(12,16):\n",
    "    print('Rebecca ' + str(i))"
   ]
  },
  {
   "cell_type": "code",
   "execution_count": 13,
   "metadata": {},
   "outputs": [
    {
     "name": "stdout",
     "output_type": "stream",
     "text": [
      "my name is\n",
      "Rebecca 0\n",
      "Rebecca 2\n",
      "Rebecca 4\n",
      "Rebecca 6\n",
      "Rebecca 8\n"
     ]
    }
   ],
   "source": [
    "print('my name is')\n",
    "for i in range(0,10,2):\n",
    "    print('Rebecca ' + str(i))"
   ]
  },
  {
   "cell_type": "code",
   "execution_count": 15,
   "metadata": {},
   "outputs": [
    {
     "name": "stdout",
     "output_type": "stream",
     "text": [
      "my name is\n",
      "Rebecca 10\n",
      "Rebecca 8\n",
      "Rebecca 6\n",
      "Rebecca 4\n",
      "Rebecca 2\n",
      "Rebecca 0\n"
     ]
    }
   ],
   "source": [
    "print('my name is')\n",
    "for i in range(10,-1,-2):\n",
    "    print('Rebecca ' + str(i))"
   ]
  },
  {
   "cell_type": "markdown",
   "metadata": {},
   "source": [
    "### While loop equivalent\n",
    "\n",
    "Can use while loop to do the same thing, but for loop is more concise."
   ]
  },
  {
   "cell_type": "code",
   "execution_count": 7,
   "metadata": {},
   "outputs": [
    {
     "name": "stdout",
     "output_type": "stream",
     "text": [
      "my name is\n",
      "Rebecca Five Times 0\n",
      "Rebecca Five Times 1\n",
      "Rebecca Five Times 2\n",
      "Rebecca Five Times 3\n",
      "Rebecca Five Times 4\n"
     ]
    }
   ],
   "source": [
    "print('my name is')\n",
    "i = 0\n",
    "while i < 5:\n",
    "    print('Rebecca Five Times ' + str(i))\n",
    "    i = i+1"
   ]
  },
  {
   "cell_type": "code",
   "execution_count": null,
   "metadata": {},
   "outputs": [],
   "source": []
  }
 ],
 "metadata": {
  "kernelspec": {
   "display_name": "Python 3",
   "language": "python",
   "name": "python3"
  },
  "language_info": {
   "codemirror_mode": {
    "name": "ipython",
    "version": 3
   },
   "file_extension": ".py",
   "mimetype": "text/x-python",
   "name": "python",
   "nbconvert_exporter": "python",
   "pygments_lexer": "ipython3",
   "version": "3.7.4"
  }
 },
 "nbformat": 4,
 "nbformat_minor": 4
}
