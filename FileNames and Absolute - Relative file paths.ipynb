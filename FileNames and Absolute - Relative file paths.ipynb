{
 "cells": [
  {
   "cell_type": "markdown",
   "metadata": {},
   "source": [
    "### Files\n",
    "\n",
    "variables are good to store in the program, but if you want it to be saved after you close the program, need to create a file for it.\n",
    "* file is single string value (can be VERY large, billions of characters long)\n",
    "\n",
    "Folders\n",
    "* can contain other folders and files\n",
    "\n",
    "### Filename and File paths\n",
    "\n",
    "* name = what it's called\n",
    "* file path = it's location on the hard drive\n",
    "\n",
    "### File extension\n",
    "\n",
    "After thr dot. It tells you what type of file it is."
   ]
  },
  {
   "cell_type": "code",
   "execution_count": 10,
   "metadata": {},
   "outputs": [
    {
     "data": {
      "text/plain": [
       "'c://spam//eggs.png'"
      ]
     },
     "execution_count": 10,
     "metadata": {},
     "output_type": "execute_result"
    }
   ],
   "source": [
    "'c://spam//eggs.png'"
   ]
  },
  {
   "cell_type": "code",
   "execution_count": 7,
   "metadata": {},
   "outputs": [
    {
     "data": {
      "text/plain": [
       "'c:/spam/eggs.png'"
      ]
     },
     "execution_count": 7,
     "metadata": {},
     "output_type": "execute_result"
    }
   ],
   "source": [
    "#or\n",
    "r'c:/spam/eggs.png'"
   ]
  },
  {
   "cell_type": "markdown",
   "metadata": {},
   "source": [
    "### Creating file path string with join() method\n",
    "\n",
    "this method works for windows, want it to work on all operating systems.\n",
    "\n",
    "To fix this, import os module \n",
    "* includes bunch of path related functions"
   ]
  },
  {
   "cell_type": "code",
   "execution_count": 9,
   "metadata": {},
   "outputs": [
    {
     "data": {
      "text/plain": [
       "'folder1//folder2//folder3//file.png'"
      ]
     },
     "execution_count": 9,
     "metadata": {},
     "output_type": "execute_result"
    }
   ],
   "source": [
    "'//'.join(['folder1', 'folder2', 'folder3', 'file.png'])"
   ]
  },
  {
   "cell_type": "code",
   "execution_count": 12,
   "metadata": {},
   "outputs": [],
   "source": [
    "import os"
   ]
  },
  {
   "cell_type": "markdown",
   "metadata": {},
   "source": [
    "### os.path.join()\n",
    "\n",
    "* takes several string arguments and return string value of path that agrees with whatever operating system you're using"
   ]
  },
  {
   "cell_type": "code",
   "execution_count": 14,
   "metadata": {},
   "outputs": [
    {
     "data": {
      "text/plain": [
       "'file1/file2/file.png'"
      ]
     },
     "execution_count": 14,
     "metadata": {},
     "output_type": "execute_result"
    }
   ],
   "source": [
    "os.path.join('file1', 'file2', 'file.png')"
   ]
  },
  {
   "cell_type": "markdown",
   "metadata": {},
   "source": [
    "### Current working directory\n",
    "\n",
    "directory == folder \n",
    "* access it through method os.getcwd()\n",
    "* tells you where the program is located"
   ]
  },
  {
   "cell_type": "code",
   "execution_count": 15,
   "metadata": {},
   "outputs": [
    {
     "data": {
      "text/plain": [
       "'/Users/rebeccaceppas/code/python-course'"
      ]
     },
     "execution_count": 15,
     "metadata": {},
     "output_type": "execute_result"
    }
   ],
   "source": [
    "os.getcwd()"
   ]
  },
  {
   "cell_type": "markdown",
   "metadata": {},
   "source": [
    "### Change current working directory\n",
    "\n",
    "* use method os.chdir()"
   ]
  },
  {
   "cell_type": "code",
   "execution_count": 17,
   "metadata": {},
   "outputs": [],
   "source": [
    "os.chdir('/Users/rebeccaceppas/code')"
   ]
  },
  {
   "cell_type": "code",
   "execution_count": 18,
   "metadata": {},
   "outputs": [
    {
     "data": {
      "text/plain": [
       "'/Users/rebeccaceppas/code'"
      ]
     },
     "execution_count": 18,
     "metadata": {},
     "output_type": "execute_result"
    }
   ],
   "source": [
    "os.getcwd()"
   ]
  },
  {
   "cell_type": "code",
   "execution_count": 19,
   "metadata": {},
   "outputs": [],
   "source": [
    "os.chdir('/Users/rebeccaceppas/code/python-course')"
   ]
  },
  {
   "cell_type": "code",
   "execution_count": 20,
   "metadata": {},
   "outputs": [
    {
     "data": {
      "text/plain": [
       "'/Users/rebeccaceppas/code/python-course'"
      ]
     },
     "execution_count": 20,
     "metadata": {},
     "output_type": "execute_result"
    }
   ],
   "source": [
    "os.getcwd()"
   ]
  },
  {
   "cell_type": "markdown",
   "metadata": {},
   "source": [
    "### Absolute and Relative Paths\n",
    "\n",
    "* Absolute --> always starts with root folder and has complete path\n",
    "* Relative --> relative to current working directory\n",
    "\n",
    "\n",
    "### . and .. Folders\n",
    "\n",
    "Use only in relative paths\n",
    "\n",
    "* one dot --> this folder\n",
    "* two dots --> the parent folder (folder in which working directory is found)\n",
    "\n",
    "### os.path.abspath(), os.path.isabs() and os.path.relpath()\n",
    "\n",
    "Getting absolute path of file, checking if given path is absolute and finding relative path between two files. Format: (final path, starting path)"
   ]
  },
  {
   "cell_type": "code",
   "execution_count": 21,
   "metadata": {},
   "outputs": [
    {
     "data": {
      "text/plain": [
       "'/Users/rebeccaceppas/code/python-course/FileNames and Absolute - Relative file paths'"
      ]
     },
     "execution_count": 21,
     "metadata": {},
     "output_type": "execute_result"
    }
   ],
   "source": [
    "os.path.abspath('FileNames and Absolute - Relative file paths')"
   ]
  },
  {
   "cell_type": "code",
   "execution_count": 22,
   "metadata": {},
   "outputs": [
    {
     "data": {
      "text/plain": [
       "False"
      ]
     },
     "execution_count": 22,
     "metadata": {},
     "output_type": "execute_result"
    }
   ],
   "source": [
    "os.path.isabs('code/python-course/FileNames and Absolute - Relative file paths')"
   ]
  },
  {
   "cell_type": "code",
   "execution_count": 23,
   "metadata": {},
   "outputs": [
    {
     "data": {
      "text/plain": [
       "'folder2/spam.png'"
      ]
     },
     "execution_count": 23,
     "metadata": {},
     "output_type": "execute_result"
    }
   ],
   "source": [
    "os.path.relpath('/Users/folder1/folder2/spam.png', '/Users/folder1')"
   ]
  },
  {
   "cell_type": "markdown",
   "metadata": {},
   "source": [
    "### os.path.dirname() and os.path.basename()\n",
    "\n",
    "* dirname() returns only folder path\n",
    "* basename() returns name of file only\n",
    "    * if last element is folder and not file name, it will return the name of the last folder"
   ]
  },
  {
   "cell_type": "code",
   "execution_count": 24,
   "metadata": {},
   "outputs": [
    {
     "data": {
      "text/plain": [
       "'/Users/rebeccaceppas/code/python-course'"
      ]
     },
     "execution_count": 24,
     "metadata": {},
     "output_type": "execute_result"
    }
   ],
   "source": [
    "os.path.dirname('/Users/rebeccaceppas/code/python-course/FileNames and Absolute - Relative file paths')"
   ]
  },
  {
   "cell_type": "code",
   "execution_count": 25,
   "metadata": {},
   "outputs": [
    {
     "data": {
      "text/plain": [
       "'FileNames and Absolute - Relative file paths'"
      ]
     },
     "execution_count": 25,
     "metadata": {},
     "output_type": "execute_result"
    }
   ],
   "source": [
    "os.path.basename('/Users/rebeccaceppas/code/python-course/FileNames and Absolute - Relative file paths')"
   ]
  },
  {
   "cell_type": "markdown",
   "metadata": {},
   "source": [
    "### os.path.exists()\n",
    "\n",
    "Returns only if file actually exists with this name and this path\n",
    "\n",
    "### Find if path is file or path is directory\n",
    "\n",
    "os.path.isfile() and os.path.isdir()"
   ]
  },
  {
   "cell_type": "code",
   "execution_count": 29,
   "metadata": {},
   "outputs": [
    {
     "data": {
      "text/plain": [
       "True"
      ]
     },
     "execution_count": 29,
     "metadata": {},
     "output_type": "execute_result"
    }
   ],
   "source": [
    "os.path.exists('/Users/rebeccaceppas/code/python-course/FileNames and Absolute - Relative file paths.ipynb'\n",
    ")"
   ]
  },
  {
   "cell_type": "code",
   "execution_count": 30,
   "metadata": {},
   "outputs": [
    {
     "data": {
      "text/plain": [
       "False"
      ]
     },
     "execution_count": 30,
     "metadata": {},
     "output_type": "execute_result"
    }
   ],
   "source": [
    "os.path.exists('oi/oi')"
   ]
  },
  {
   "cell_type": "code",
   "execution_count": 31,
   "metadata": {},
   "outputs": [
    {
     "data": {
      "text/plain": [
       "True"
      ]
     },
     "execution_count": 31,
     "metadata": {},
     "output_type": "execute_result"
    }
   ],
   "source": [
    "os.path.isfile('/Users/rebeccaceppas/code/python-course/FileNames and Absolute - Relative file paths.ipynb')"
   ]
  },
  {
   "cell_type": "code",
   "execution_count": 33,
   "metadata": {},
   "outputs": [
    {
     "data": {
      "text/plain": [
       "False"
      ]
     },
     "execution_count": 33,
     "metadata": {},
     "output_type": "execute_result"
    }
   ],
   "source": [
    "#false because this leads to file\n",
    "os.path.isdir('/Users/rebeccaceppas/code/python-course/FileNames and Absolute - Relative file paths.ipynb')"
   ]
  },
  {
   "cell_type": "markdown",
   "metadata": {},
   "source": [
    "### Get size and \n",
    "\n",
    "* os.path.getsize() --> returns size in bytes as an integer\n",
    "* os.listdir() --> returns list of everything inside that folder"
   ]
  },
  {
   "cell_type": "code",
   "execution_count": 35,
   "metadata": {},
   "outputs": [
    {
     "data": {
      "text/plain": [
       "10053"
      ]
     },
     "execution_count": 35,
     "metadata": {},
     "output_type": "execute_result"
    }
   ],
   "source": [
    "os.path.getsize('/Users/rebeccaceppas/code/python-course/FileNames and Absolute - Relative file paths.ipynb')"
   ]
  },
  {
   "cell_type": "code",
   "execution_count": 38,
   "metadata": {},
   "outputs": [
    {
     "data": {
      "text/plain": [
       "['Flow Charts.ipynb',\n",
       " 'Repetition in Regex Patterns and Greedy Nongreedy matches.ipynb',\n",
       " 'Regex Dot-Star and the Caret(^)Dollar($) Characters.ipynb',\n",
       " 'Regex groups and the Pipe Character.ipynb',\n",
       " 'FileNames and Absolute - Relative file paths.ipynb',\n",
       " 'Guess the Number program.ipynb',\n",
       " 'Similarities between Lists and Strings.ipynb',\n",
       " 'List Methods.ipynb',\n",
       " 'Regular Expression Basics.ipynb',\n",
       " 'String Methods.ipynb',\n",
       " 'Advanced String Syntax.ipynb',\n",
       " 'The List Data Type.ipynb',\n",
       " 'Hello.ipynb',\n",
       " 'Regex Character Classes and the findall() Method.ipynb',\n",
       " 'If, Else and Elif.ipynb',\n",
       " 'The Dictionary Data Type.ipynb',\n",
       " 'For Loops with Lists.ipynb',\n",
       " 'Try and Except Statements.ipynb',\n",
       " 'Built-in Functions.ipynb',\n",
       " 'For Loops.ipynb',\n",
       " '.ipynb_checkpoints',\n",
       " 'Global and Local Scopes.ipynb',\n",
       " 'While Loops.ipynb',\n",
       " 'Basic Terminology.ipynb',\n",
       " '.git',\n",
       " 'String Formatting.ipynb',\n",
       " 'Writing my own functions.ipynb',\n",
       " 'Regex Example Program - A Phone and Email Scraper.ipynb',\n",
       " 'Data Structures.ipynb',\n",
       " 'Regex sub Method and Verbose Mode.ipynb']"
      ]
     },
     "execution_count": 38,
     "metadata": {},
     "output_type": "execute_result"
    }
   ],
   "source": [
    "os.listdir('/Users/rebeccaceppas/code/python-course')"
   ]
  },
  {
   "cell_type": "markdown",
   "metadata": {},
   "source": [
    "### os.makedirs()\n",
    "\n",
    "* creates new folders"
   ]
  }
 ],
 "metadata": {
  "kernelspec": {
   "display_name": "Python 3",
   "language": "python",
   "name": "python3"
  },
  "language_info": {
   "codemirror_mode": {
    "name": "ipython",
    "version": 3
   },
   "file_extension": ".py",
   "mimetype": "text/x-python",
   "name": "python",
   "nbconvert_exporter": "python",
   "pygments_lexer": "ipython3",
   "version": "3.7.4"
  }
 },
 "nbformat": 4,
 "nbformat_minor": 4
}
