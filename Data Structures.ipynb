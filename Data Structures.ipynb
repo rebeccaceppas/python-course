{
 "cells": [
  {
   "cell_type": "markdown",
   "metadata": {},
   "source": [
    "### Data Structures\n",
    "\n",
    "Is a list of dictionaries\n",
    "* can make them more complex and store more data by nesting them onto each other.\n",
    "* this is a good way to model real world in a way that the program understands"
   ]
  },
  {
   "cell_type": "code",
   "execution_count": 1,
   "metadata": {},
   "outputs": [],
   "source": [
    "cat = {'name': 'cle', 'age': 8, 'colour': 'black'}"
   ]
  },
  {
   "cell_type": "code",
   "execution_count": 2,
   "metadata": {},
   "outputs": [
    {
     "data": {
      "text/plain": [
       "[{'name': 'cle', 'age': 8, 'colour': 'black'},\n",
       " {'name': 'ozzy', 'age': 13, 'colour': 'white'}]"
      ]
     },
     "execution_count": 2,
     "metadata": {},
     "output_type": "execute_result"
    }
   ],
   "source": [
    "allCats = []\n",
    "allCats.append({'name': 'cle', 'age': 8, 'colour': 'black'})\n",
    "allCats.append({'name': 'ozzy', 'age': 13, 'colour': 'white'})\n",
    "allCats"
   ]
  },
  {
   "cell_type": "markdown",
   "metadata": {},
   "source": [
    "### Tic Tac Toe game\n",
    "\n",
    "1. create a dictionary with keys as positions and values being empty, O or X\n",
    "2. print it is a way that looks like the board\n"
   ]
  },
  {
   "cell_type": "code",
   "execution_count": 14,
   "metadata": {},
   "outputs": [],
   "source": [
    "theBoard = {'top-l': ' ', 'top-m': ' ', 'top-r': ' ', 'mid-l': ' ', 'mid-m': ' ', 'mid-r': ' ', 'low-l': ' ', 'low-m': ' ', 'low-r': ' '}"
   ]
  },
  {
   "cell_type": "code",
   "execution_count": 15,
   "metadata": {},
   "outputs": [
    {
     "name": "stdout",
     "output_type": "stream",
     "text": [
      "{'low-l': ' ',\n",
      " 'low-m': ' ',\n",
      " 'low-r': ' ',\n",
      " 'mid-l': ' ',\n",
      " 'mid-m': ' ',\n",
      " 'mid-r': ' ',\n",
      " 'top-l': ' ',\n",
      " 'top-m': ' ',\n",
      " 'top-r': ' '}\n"
     ]
    }
   ],
   "source": [
    "import pprint\n",
    "pprint.pprint(theBoard)"
   ]
  },
  {
   "cell_type": "code",
   "execution_count": 19,
   "metadata": {},
   "outputs": [
    {
     "name": "stdout",
     "output_type": "stream",
     "text": [
      "{'low-l': ' ',\n",
      " 'low-m': ' ',\n",
      " 'low-r': ' ',\n",
      " 'mid-l': ' ',\n",
      " 'mid-m': 'X',\n",
      " 'mid-r': ' ',\n",
      " 'top-l': ' ',\n",
      " 'top-m': ' ',\n",
      " 'top-r': ' '}\n"
     ]
    }
   ],
   "source": [
    "theBoard['mid-m'] = 'X'\n",
    "pprint.pprint(theBoard)"
   ]
  },
  {
   "cell_type": "code",
   "execution_count": 20,
   "metadata": {},
   "outputs": [],
   "source": [
    "def printBoard(board):\n",
    "    print(board['top-l'] + '|' + board['top-m'] + '|' + board['top-r'])\n",
    "    print('-----')\n",
    "    print(board['mid-l'] + '|' + board['mid-m'] + '|' + board['mid-r'])\n",
    "    print('-----')\n",
    "    print(board['low-l'] + '|' + board['low-m'] + '|' + board['low-r'])"
   ]
  },
  {
   "cell_type": "code",
   "execution_count": 21,
   "metadata": {},
   "outputs": [
    {
     "name": "stdout",
     "output_type": "stream",
     "text": [
      " | | \n",
      "-----\n",
      " |X| \n",
      "-----\n",
      " | | \n"
     ]
    }
   ],
   "source": [
    "printBoard(theBoard)"
   ]
  },
  {
   "cell_type": "markdown",
   "metadata": {},
   "source": [
    "### Type funciton\n",
    "\n",
    "Tells you the data type of the value."
   ]
  },
  {
   "cell_type": "code",
   "execution_count": 22,
   "metadata": {},
   "outputs": [
    {
     "data": {
      "text/plain": [
       "int"
      ]
     },
     "execution_count": 22,
     "metadata": {},
     "output_type": "execute_result"
    }
   ],
   "source": [
    "type(42)"
   ]
  },
  {
   "cell_type": "code",
   "execution_count": 23,
   "metadata": {},
   "outputs": [
    {
     "data": {
      "text/plain": [
       "str"
      ]
     },
     "execution_count": 23,
     "metadata": {},
     "output_type": "execute_result"
    }
   ],
   "source": [
    "type('hello')"
   ]
  },
  {
   "cell_type": "code",
   "execution_count": 24,
   "metadata": {},
   "outputs": [
    {
     "data": {
      "text/plain": [
       "float"
      ]
     },
     "execution_count": 24,
     "metadata": {},
     "output_type": "execute_result"
    }
   ],
   "source": [
    "type(3.14)"
   ]
  },
  {
   "cell_type": "code",
   "execution_count": null,
   "metadata": {},
   "outputs": [],
   "source": []
  }
 ],
 "metadata": {
  "kernelspec": {
   "display_name": "Python 3",
   "language": "python",
   "name": "python3"
  },
  "language_info": {
   "codemirror_mode": {
    "name": "ipython",
    "version": 3
   },
   "file_extension": ".py",
   "mimetype": "text/x-python",
   "name": "python",
   "nbconvert_exporter": "python",
   "pygments_lexer": "ipython3",
   "version": "3.7.4"
  }
 },
 "nbformat": 4,
 "nbformat_minor": 4
}
