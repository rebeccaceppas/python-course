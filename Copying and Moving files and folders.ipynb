{
 "cells": [
  {
   "cell_type": "markdown",
   "metadata": {},
   "source": [
    "### shutil module\n",
    "\n",
    "- copy function --> copies file to new folder\n",
    "    - 1st argument = where it is + file name\n",
    "    - 2nd argument = where you want to copy it to w/o file name\n",
    "    \n",
    "- can copy and rename at same time\n",
    "    - same thing but specify new file name in second argument\n",
    "    \n",
    "    \n",
    "- copytree() function\n",
    "    - copy a full folder w/ its own files and folders\n",
    "    - 1st argument = original folder with path\n",
    "    - 2nd argument = path and new folder name\n",
    "\n",
    "- move() function\n",
    "    - first argument = file you want to move\n",
    "    - second argument = path of where want it moved to\n",
    "    - it is deleted at old location and moved to new one\n",
    "\n",
    "- can move and r"
   ]
  },
  {
   "cell_type": "code",
   "execution_count": null,
   "metadata": {},
   "outputs": [],
   "source": [
    "import shutil\n"
   ]
  }
 ],
 "metadata": {
  "kernelspec": {
   "display_name": "Python 3",
   "language": "python",
   "name": "python3"
  },
  "language_info": {
   "codemirror_mode": {
    "name": "ipython",
    "version": 3
   },
   "file_extension": ".py",
   "mimetype": "text/x-python",
   "name": "python",
   "nbconvert_exporter": "python",
   "pygments_lexer": "ipython3",
   "version": "3.7.4"
  }
 },
 "nbformat": 4,
 "nbformat_minor": 4
}
